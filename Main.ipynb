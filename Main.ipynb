{
  "cells": [
    {
      "cell_type": "code",
      "source": [
        "import numpy as np\n",
        "import numpy.linalg as LA\n",
        "from scipy.integrate import quad\n",
        "from scipy.interpolate import interp1d\n",
        "from matplotlib import pyplot as plt\n",
        "from functools import lru_cache"
      ],
      "outputs": [],
      "execution_count": null,
      "metadata": {
        "jupyter": {
          "source_hidden": false,
          "outputs_hidden": false
        },
        "nteract": {
          "transient": {
            "deleting": false
          }
        }
      }
    },
    {
      "cell_type": "code",
      "source": [
        "from typing import Any, Iterable, Optional"
      ],
      "outputs": [],
      "execution_count": null,
      "metadata": {
        "jupyter": {
          "source_hidden": false,
          "outputs_hidden": false
        },
        "nteract": {
          "transient": {
            "deleting": false
          }
        }
      }
    },
    {
      "cell_type": "code",
      "source": [
        "from NACA_63210 import airfoil_surface\n",
        "from Lift_diagrams import chord, V_distribution, M_distribution, T_distribution, dynamic_p"
      ],
      "outputs": [],
      "execution_count": null,
      "metadata": {
        "jupyter": {
          "source_hidden": false,
          "outputs_hidden": false
        },
        "nteract": {
          "transient": {
            "deleting": false
          }
        }
      }
    },
    {
      "cell_type": "code",
      "source": [
        "b2 = 16.07/2\n",
        "root_c = 2.46 \n",
        "tip_c = 1.11\n",
        "E = 68.9 * 10 ** 9\n",
        "G = 26 * 10 ** 9\n",
        "v = 0.33\n",
        "UTS = 290 * 10 ** 6\n",
        "YieldStregth = 240 * 10 ** 6\n",
        "rho_al = 2700\n",
        "y = np.linspace(0, b2, 800)\n",
        "rho_FL330 = 0.418501741\n",
        "q_crit = dynamic_p(rho_FL330, 250.18)\n",
        "CL_crit = 0.514 * 1.5"
      ],
      "outputs": [],
      "execution_count": null,
      "metadata": {
        "jupyter": {
          "source_hidden": false,
          "outputs_hidden": false
        },
        "nteract": {
          "transient": {
            "deleting": false
          }
        }
      }
    },
    {
      "cell_type": "code",
      "source": [
        "def interp_on_domain(range_object):\n",
        "    def wrapper(func):\n",
        "        @lru_cache(maxsize=None)\n",
        "        def make_interp1d(*args, **kwargs):     \n",
        "            return interp1d(range_object, func(range_object, *args, **kwargs), \n",
        "                            kind='cubic', fill_value='extrapolate')\n",
        "            \n",
        "        def return_func(y, *args, **kwargs):\n",
        "            interpreted_func = make_interp1d(*args, **kwargs)\n",
        "            return interpreted_func(y)\n",
        "\n",
        "        return return_func\n",
        "\n",
        "    return wrapper"
      ],
      "outputs": [],
      "execution_count": null,
      "metadata": {
        "jupyter": {
          "source_hidden": false,
          "outputs_hidden": false
        },
        "nteract": {
          "transient": {
            "deleting": false
          }
        }
      }
    },
    {
      "cell_type": "code",
      "source": [
        "class Panel:\n",
        "    def __init__(self, point1, point2, thickness, span=b2):\n",
        "        \"\"\"point1 and point2 are coordinates relative to the chord, thickness in mm\"\"\"\n",
        "        if point1[1] > point2[1]: # make sure point2 has the highest z coordinate\n",
        "            point1, point2 = point2, point1\n",
        "        self.p1 = point1\n",
        "        self.p2 = point2\n",
        "        self.vector = point2 - point1\n",
        "        self.centre = (point1 + self.vector/2)\n",
        "        self.h = LA.norm(self.vector)\n",
        "        self.t = thickness\n",
        "        # z is the vertical distance from the x axis relative to chord\n",
        "        self.z = (point1 + self.vector/2)[1]\n",
        "        self.span = span\n",
        "\n",
        "    def l(self, y):\n",
        "        return self.h * chord(y) * (y <= self.span)\n",
        "\n",
        "    def A(self, y):\n",
        "        return self.h * chord(y) * self.t(y) * (y <= self.span)\n",
        "    \n",
        "    def Q_x(self, y):\n",
        "        \"\"\"Returns first moment of area about z=0\"\"\"\n",
        "        return self.centre[1] * chord(y) * self.A(y) * (y <= self.span)\n",
        "\n",
        "    def Q_z(self, y):\n",
        "        \"\"\"Returns first moment of area about x=0\"\"\"\n",
        "        return self.centre[0] * chord(y) * self.A(y) * (y <= self.span)\n",
        "    \n",
        "    def I_xc(self, y):\n",
        "        \"\"\"Returns second moment of area about own centroid\"\"\"\n",
        "        cos_a = self.vector[0] / self.h\n",
        "        sin_a = self.vector[1] / self.h\n",
        "\n",
        "        return (self.t(y) * (self.h*chord(y)) * (self.t(y)**2 * cos_a**2 \n",
        "            + (self.h*chord(y))**2 * sin_a**2) / 12 * (y <= self.span))\n",
        "    \n",
        "    def I_xx(self, y, z_centroid):\n",
        "        \"\"\"Returns second moment of area about centroid\"\"\"\n",
        "        d = self.centre[1] * chord(y) - z_centroid\n",
        "        return self.I_xc(y) + self.A(y) * d**2 * (y <= self.span)\n",
        "    \n",
        "    def z_at_x(self, x):\n",
        "        if self.vector[0] == 0:\n",
        "            raise ValueError(\"Horizontal plate does not have a heigh as a function of x\")\n",
        "        return (x - self.p1[0])/self.vector[0] * self.vector[1] + self.p1[1]\n"
      ],
      "outputs": [],
      "execution_count": null,
      "metadata": {
        "jupyter": {
          "source_hidden": false,
          "outputs_hidden": false
        },
        "nteract": {
          "transient": {
            "deleting": false
          }
        }
      }
    },
    {
      "cell_type": "code",
      "source": [
        "class Stringer:\n",
        "    def __init__(self, area, x, length, upper: bool=True):\n",
        "        \"\"\"area is in square mm, point is the coordinate realtive to the chord and length is the spanwise length of the stringer\"\"\"\n",
        "        self.upper = upper\n",
        "        self.A = area * 1e-6\n",
        "        self.point = np.array([x, 0])\n",
        "        self.length = length\n",
        "\n",
        "    @property\n",
        "    def x(self):\n",
        "        return self.point[0]\n",
        "    \n",
        "    @property\n",
        "    def z(self):\n",
        "        return self.point[1]\n",
        "    \n",
        "    @z.setter\n",
        "    def z(self, new_z):\n",
        "        self.point[1] = new_z\n",
        "    \n",
        "    def Q_x(self, y):\n",
        "        \"\"\"Returns first moment of area about z=0\"\"\"\n",
        "        return self.A * self.point[1] * chord(y) * (self.length >= y)\n",
        "\n",
        "    def Q_z(self, y):\n",
        "        \"\"\"Returns first moment of area about x=0\"\"\"\n",
        "        return self.A * self.point[0] * chord(y) * (self.length >= y)\n",
        "    \n",
        "    @property\n",
        "    def I_xc(self):\n",
        "        return 0\n",
        "\n",
        "    def I_xx(self, y, z_centroid):\n",
        "        \"\"\"Returns second moment of area about z_centroid\"\"\"\n",
        "        return self.I_xc + self.A * (self.point[1] * chord(y) - z_centroid)**2  * (self.length >= y)\n"
      ],
      "outputs": [],
      "execution_count": null,
      "metadata": {
        "jupyter": {
          "source_hidden": false,
          "outputs_hidden": false
        },
        "nteract": {
          "transient": {
            "deleting": false
          }
        }
      }
    },
    {
      "cell_type": "code",
      "source": [
        "class L_stringer(Stringer):\n",
        "    def calculate_I_xx(self, l1, l2, t):\n",
        "        pass\n",
        "\n",
        "    def __init__(self, x, length, l1, l2, t, upper=True):\n",
        "        area = (l1 + l2) * t\n",
        "        self.l1 = l1\n",
        "        self.l2 = l2\n",
        "        self.t = t\n",
        "        self._Ixc = self.calculate_I_xx(l1, l2, t)\n",
        "        super().__init__(area, x, length, upper=upper)\n",
        "    \n",
        "    @property\n",
        "    def I_xc(self):\n",
        "        return self._Ixc\n",
        "        "
      ],
      "outputs": [],
      "execution_count": null,
      "metadata": {
        "jupyter": {
          "source_hidden": false,
          "outputs_hidden": false
        },
        "nteract": {
          "transient": {
            "deleting": false
          }
        }
      }
    },
    {
      "cell_type": "code",
      "source": [
        "class t:\n",
        "    def __init__(self, start_thickness, end_thicnkess=None, length=b2) -> None:\n",
        "        if start_thickness < 0 or end_thicnkess < 0:\n",
        "            raise ValueError('Cannot have negative thicknesses')\n",
        "        self.t1 = start_thickness * 1e-3\n",
        "        if end_thicnkess is not None:\n",
        "            self.t2 = end_thicnkess * 1e-3\n",
        "        else:\n",
        "            self.t2 = end_thicnkess\n",
        "        self.length = length\n",
        "\n",
        "    def __eq__(self, other):\n",
        "        if type(self) is not type(other):\n",
        "            return False\n",
        "        else:\n",
        "            return self.t1 == other.t1 and self.t2 == other.t2 and self.length == other.length\n",
        "    \n",
        "    def __repr__(self) -> str:\n",
        "        if self.t2 is None:\n",
        "            return f'Constant thickness of {self.t1 * 1e3} mm over a length of {self.length} m.'\n",
        "        else:\n",
        "            return (f'Linear varying thickness of {self.t1 * 1e3} mm to {self.t2 * 1e3} mm' \n",
        "                    + f' over a length of {self.length} m.')\n",
        "\n",
        "    def __call__(self, y):\n",
        "        return self.t1 - (self.t1-self.t2)/self.length * y * (self.length >= y)\n",
        "\n",
        "    def __mul__(self, other):\n",
        "        t1 = self.t1 * other * 1e3\n",
        "        if self.t2 is not None:\n",
        "            t2 = self.t2 * other * 1e3\n",
        "        else:\n",
        "            t2 = None\n",
        "        return self.__class__(t1, t2, self.length)\n",
        "\n",
        "    def __truediv__(self, other):\n",
        "        return self.__mul__(1/other)\n",
        "\n",
        "    def __add__(self, other):\n",
        "        t1 = self.t1 * 1e3 + other\n",
        "        if self.t2 is not None:\n",
        "            t2 = self.t2 * 1e3 + other\n",
        "        else:\n",
        "            t2 = None\n",
        "        return self.__class__(t1, t2, self.length)\n",
        "    \n",
        "    def __sub__(self, other):\n",
        "        return self.__add__(-other)\n"
      ],
      "outputs": [],
      "execution_count": null,
      "metadata": {
        "jupyter": {
          "source_hidden": false,
          "outputs_hidden": false
        },
        "nteract": {
          "transient": {
            "deleting": false
          }
        }
      }
    },
    {
      "cell_type": "code",
      "source": [
        "class WingBox:\n",
        "  Kc_lim = 4\n",
        "\n",
        "  def __init__(self, front_spar_x, front_spar_t, rear_spar_x, rear_spar_t, \n",
        "    upper_panel_t, lower_panel_t, stringers: Optional[Iterable[Stringer]]=None, \n",
        "    middle_spar_x=None, middle_spar_t=None, middle_spar_span=b2,\n",
        "    ribs=[0, b2]):\n",
        "    \n",
        "    if middle_spar_x is None:\n",
        "      self.single_cell = True\n",
        "    else:\n",
        "      self.single_cell = False\n",
        "    # Define points of the corners of the wingbox\n",
        "    front_upper_z, front_lower_z = airfoil_surface(front_spar_x)\n",
        "    front_upper = np.array([front_spar_x, front_upper_z]) \n",
        "    front_lower = np.array([front_spar_x, front_lower_z])\n",
        "    rear_upper_z, rear_lower_z = airfoil_surface(rear_spar_x)\n",
        "    rear_upper = np.array([rear_spar_x, rear_upper_z])\n",
        "    rear_lower = np.array([rear_spar_x, rear_lower_z])\n",
        "\n",
        "    self.points = {'front_upper':front_upper, 'front_lower':front_lower, \n",
        "      'rear_upper':rear_upper, 'rear_lower':rear_lower}\n",
        "\n",
        "    if not self.single_cell:\n",
        "      # Add extra points if there is a middle spar\n",
        "      middle_upper_z, middle_lower_z = airfoil_surface(middle_spar_x)\n",
        "      middle_upper = np.array([middle_spar_x, middle_upper_z])\n",
        "      middle_lower = np.array([middle_spar_x, middle_lower_z])\n",
        "      self.points['middle_upper'] = middle_upper\n",
        "      self.points['middle_lower'] = middle_lower\n",
        "\n",
        "    self.panels = {}\n",
        "    front_spar = Panel(front_lower, front_upper, front_spar_t)\n",
        "    rear_spar = Panel(rear_lower, rear_upper, rear_spar_t)\n",
        "\n",
        "    if self.single_cell:\n",
        "      upper_panel = Panel(front_upper, rear_upper, upper_panel_t)\n",
        "      lower_panel = Panel(front_lower, rear_lower, lower_panel_t)\n",
        "      self.panels = {'front_spar':front_spar, 'rear_spar':rear_spar, \n",
        "        'upper_panel':upper_panel, 'lower_panel':lower_panel} \n",
        "    else:\n",
        "      upper_panel_1 = Panel(front_upper, middle_upper, upper_panel_t)\n",
        "      upper_panel_2 = Panel(middle_upper, rear_upper, upper_panel_t)\n",
        "      lower_panel_1 = Panel(front_lower, middle_lower, lower_panel_t)\n",
        "      lower_panel_2 = Panel(middle_lower, rear_lower, lower_panel_t)\n",
        "      middle_spar = Panel(middle_lower, middle_upper, middle_spar_t, middle_spar_span)\n",
        "      self.panels = {'front_spar':front_spar, 'rear_spar':rear_spar, \n",
        "        'upper_panel_1':upper_panel_1, 'upper_panel_2':upper_panel_2, \n",
        "        'lower_panel_1':lower_panel_1, 'lower_panel_2':lower_panel_2,\n",
        "        'middle_spar':middle_spar}\n",
        "      # Add extra lists so the two cells can be accesed seperately\n",
        "      self.left_panels = {'front_spar':front_spar, 'upper_panel_1':upper_panel_1, \n",
        "        'lower_panel_1':lower_panel_1, 'middle_spar':middle_spar}\n",
        "      self.right_panels = {'rear_spar':rear_spar, 'upper_panel_2':upper_panel_2, \n",
        "        'lower_panel_2':lower_panel_2, 'middle_spar':middle_spar}\n",
        "      \n",
        "    if stringers is not None:\n",
        "      for stringer in stringers:\n",
        "        panel = self.find_panel(stringer.x, stringer.upper)\n",
        "        z = panel.z_at_x(stringer.x)\n",
        "        stringer.z = z\n",
        "    \n",
        "    self.stringers = stringers\n",
        "    self.ribs = ribs\n",
        "\n",
        "  def find_panel(self, x, upper: bool):\n",
        "    if upper:\n",
        "      key = 'upper'\n",
        "    else:\n",
        "      key = 'lower'\n",
        "    if self.single_cell:\n",
        "      return self.panels[key+'_panel']\n",
        "    else:\n",
        "      middle_x = self.panels['middle_spar'].p1[0]\n",
        "      if x == middle_x:\n",
        "        raise ValueError('This is the location of the middle spar')\n",
        "      if x < middle_x:\n",
        "        return self.panels[key+'_panel_1']\n",
        "      else:\n",
        "        return self.panels[key+'_panel_2']\n",
        "  \n",
        "  def A(self, y):\n",
        "    \"\"\"Returns the area of the matrial of a cross sectio at a given location of span\"\"\"\n",
        "    A = 0\n",
        "    for panel in self.panels.values():\n",
        "      A += panel.A(y)\n",
        "    \n",
        "    if self.stringers is not None:\n",
        "      for stringer in self.stringers:\n",
        "          A += stringer.A\n",
        "    return A\n",
        "  \n",
        "  def z_centroid(self, y):\n",
        "    \"\"\"Returns the z-coordinate of the centroid at a given location of span\"\"\"\n",
        "    A = self.A(y)\n",
        "    Az = 0\n",
        "\n",
        "    for panel in self.panels.values():\n",
        "      Az += panel.Q_x(y)\n",
        "    if self.stringers is not None:\n",
        "      for stringer in self.stringers:\n",
        "        Az += stringer.Q_x(y)\n",
        "\n",
        "    return Az / A\n",
        "\n",
        "  def x_centroid(self, y):\n",
        "    \"\"\"Returns the z-coordinate of the centroid at a given location of span\"\"\"\n",
        "    A = self.A(y)\n",
        "    Ax = 0\n",
        "\n",
        "    for panel in self.panels.values():\n",
        "      Ax += panel.Q_z(y)\n",
        "    if self.stringers is not None:\n",
        "      for stringer in self.stringers:\n",
        "        Ax += stringer.Q_z(y)\n",
        "\n",
        "    return Ax / A\n",
        "\n",
        "  def stringer_discontinuities(self):\n",
        "    lst = []\n",
        "    for stringer in self.stringers:\n",
        "      if stringer.length != b2:\n",
        "        lst.append(stringer.length)\n",
        "      return lst\n",
        "  \n",
        "  def w(self, y):\n",
        "    \"\"\"Returns dW/dy, the weight distribution of the wing\"\"\"\n",
        "    return self.A(y)*rho_al\n",
        "\n",
        "  @property\n",
        "  def W(self):\n",
        "    \"\"\"Returns the total weight of two wingboxes\"\"\"\n",
        "    return quad(self.w, 0, b2)[0] * 2\n",
        "\n",
        "  def I_xx(self, y):\n",
        "    \"\"\"Returns the moment of inertia about the centroid of the wingbox\"\"\"\n",
        "    c = chord(y)\n",
        "    z_centroid = self.z_centroid(y)\n",
        "    I_xx = 0\n",
        "\n",
        "    for panel in self.panels.values():\n",
        "      I_xx += panel.I_xx(y, z_centroid)\n",
        "\n",
        "    if self.stringers is not None:\n",
        "      for stringer in self.stringers:\n",
        "        I_xx += stringer.I_xx(y, z_centroid) * (stringer.length >= y)\n",
        "\n",
        "    return I_xx\n",
        "  \n",
        "  def solve_shearflow(self, y, T):\n",
        "    # a * q1 + b * q2 - dthetadx = 0\n",
        "    # c * q1 + d * q2 - dthetadx = 0\n",
        "    # e * q1 + f * q2 - 0 = T\n",
        "    # q1 is shear flow in left box, q2 shear flow in the right box\n",
        "    panels = self.panels\n",
        "    width_1 = self.points[\"middle_upper\"][0] - self.points[\"front_upper\"][0]\n",
        "    width_2 = self.points[\"rear_upper\"][0] - self.points[\"middle_upper\"][0]\n",
        "    A_1 = width_1/2*(panels[\"front_spar\"].h + panels[\"middle_spar\"].h) * chord(y)**2\n",
        "    A_2 = width_1/2*(panels[\"rear_spar\"].h + panels[\"middle_spar\"].h) * chord(y)**2\n",
        "    a = 0\n",
        "    for panel in self.left_panels.values():\n",
        "      a += panel.l(y)/panel.t(y)\n",
        "    a *= 1/(2*A_1*G)\n",
        "    b = -panels['middle_spar'].l(y)/panels['middle_spar'].t(y) /(2*A_1*G)\n",
        "\n",
        "    d = 0\n",
        "    for panel in self.right_panels.values():\n",
        "      d += panel.l(y)/panel.t(y)\n",
        "    d *= 1/(2*A_2*G)\n",
        "    c = -panels['middle_spar'].l(y)/panels['middle_spar'].t(y) /(2*A_2*G)\n",
        "\n",
        "    e = 2*A_1\n",
        "    f = 2*A_2\n",
        "    system = np.array([[a, b, np.broadcast_to(-1, np.shape(a))],\n",
        "                       [c, d, np.broadcast_to(-1, np.shape(a))],\n",
        "                       [e, f, np.broadcast_to(0, np.shape(a))]])\n",
        "    \n",
        "    if system.ndim > 2:\n",
        "      system = np.moveaxis(system, 2, 0)\n",
        "      N, M, M = np.shape(system)\n",
        "      righthandside = np.broadcast_to(np.array([0, 0, T]), (N, M))\n",
        "      q1, q2, dthetadx = np.swapaxes(LA.solve(system, righthandside), 0, 1)\n",
        "    else:\n",
        "      q1, q2, dthetadx = LA.solve(system, np.array([0, 0, T]))\n",
        "    \n",
        "    return q1, q2, dthetadx\n",
        "  \n",
        "  def J_single_cell(self, y):\n",
        "    # Calculate area inside box\n",
        "    width = self.points[\"rear_upper\"][0] - self.points[\"front_upper\"][0]\n",
        "    A = width/2*(self.panels[\"front_spar\"].h + self.panels[\"rear_spar\"].h) * chord(y)**2\n",
        "    integral = 0\n",
        "    for panel in self.panels.values():\n",
        "      integral += panel.h * chord(y)/panel.t(y)\n",
        "    return 4 * A**2 / integral\n",
        "    \n",
        "  def J_multi_cell(self, y):\n",
        "    T = 1\n",
        "    q1, q2, dthetadx = self.solve_shearflow(y, T)\n",
        "    J = T/(G*dthetadx)\n",
        "    return J\n",
        "    \n",
        "  def J(self, y):\n",
        "    \"\"\"Returns the torsional stiffness of the wingbox\"\"\"\n",
        "    if self.single_cell:\n",
        "      return self.J_single_cell(y)\n",
        "    else:\n",
        "      return self.J_multi_cell(y)\n",
        "    \n",
        "  def sigma(self, y, z):\n",
        "    \"\"\"Returns the stress in Pa at a given y of span and z with respect to chord\"\"\"\n",
        "    z = z * chord(y)\n",
        "    z_c = self.z_centroid(y)\n",
        "    return M(y) * (z-z_c) / self.I_xx(y)\n",
        "\n",
        "\n",
        "\n",
        "  def check_skin_buckling(self):\n",
        "    # if there are n ribs, there should be n sections that need to be checked (assuming no rib at tip)\n",
        "    # loop over each section, each section has rib1, and rib2\n",
        "    #\n",
        "    # the stringers that are considered to be on the top panel are the ones with positive z coordinate\n",
        "    # sigma_cr is evaluated at rib2, sigma_max is evaluated at both rib1 and rib2 and the highest is selected\n",
        "    # \n",
        "    # for stringer in self.stringers:\n",
        "    #   \n",
        "    # sigma_cr\n",
        "    # take t at rib2\n",
        "    # a is the distance between rib1 and rib2, don't think a is used in calculation if Kc is taken constant\n",
        "    \n",
        "    # loop over sections between ribs\n",
        "    rib1 = self.ribs[0]\n",
        "    T_or_F = True      # for positive loadfactor\n",
        "    if M(0.1) > 0:\n",
        "        T_or_F = False # for negative loadfactor\n",
        "    \n",
        "    for rib2 in self.ribs[1:]:\n",
        "      y1, y2 = rib1, rib2\n",
        "      chord1, chord2 = chord(y1), chord(y2)\n",
        "      \n",
        "      section_points = [self.panels['front_spar'].p2, self.panels['rear_spar'].p2]\n",
        "      if not self.single_cell:\n",
        "        section_points.append(self.panels['middle_spar'].p2)\n",
        "      if self.stringers is not None:\n",
        "        for stringer in self.stringers:\n",
        "          if stringer.upper is T_or_F:\n",
        "            if stringer.length >= y2:\n",
        "              section_points.append(stringer.point)\n",
        "      section_points.sort(key=lambda elem: elem[0])\n",
        "      \n",
        "      # loop over sections between stringers\n",
        "      print(f'Ribs at {rib1} and {rib2} m span')\n",
        "      point1 = section_points[0]\n",
        "      for point2 in section_points[1:]:\n",
        "        b = LA.norm(point2 - point1) * chord2\n",
        "        x = (point1[0]+point2[0])/2\n",
        "        t2 = self.find_panel(x, True).t(y2)\n",
        "        sigma_crit = np.pi**2 * self.Kc_lim * E / (12*(1-v**2)) * (t2/b)**2\n",
        "        \n",
        "        if T_or_F:          # for positive loadfactor\n",
        "            z_max_or_min = min(point1[1], point2[1])\n",
        "        elif not T_or_F:    # for negative loadfactor\n",
        "            z_max_or_min = max(point1[1], point2[1])\n",
        "        sigma1_max = self.sigma(y1, z_max_or_min)\n",
        "        sigma2_max = self.sigma(y2, z_max_or_min)\n",
        "        sigma_max = max(sigma1_max, sigma2_max)\n",
        "\n",
        "        print(f'section between {point1[0]} and {point2[0]}')\n",
        "        print(f\"Sigma crit = {sigma_crit:2.2}\")\n",
        "        print(f\"Sigma 1 max = {sigma1_max:2.2}\")\n",
        "        print(f\"Sigma 2 max = {sigma2_max:2.2}\")\n",
        "\n",
        "        point1 = point2\n",
        "\n",
        "      rib1 = rib2\n",
        "\n",
        "  def plot(self):\n",
        "    c = chord(0)\n",
        "    x = np.linspace(0, 1, 100)\n",
        "    plt.plot(x, airfoil_surface(x)[0], color='grey', linewidth=1)\n",
        "    plt.plot(x, airfoil_surface(x)[1], color='grey', linewidth=1)\n",
        "    plt.scatter(self.x_centroid(0)/c, self.z_centroid(0)/c)\n",
        "    for panel in self.panels.values():\n",
        "      if panel.vector[0] != 0:\n",
        "        x = np.linspace(panel.p1[0], panel.p2[0], 100)\n",
        "        plt.plot(x, panel.z_at_x(x), color='black', linewidth=3)\n",
        "      else:\n",
        "        x = panel.p1[0]\n",
        "        z = np.linspace(panel.p1[1], panel.p2[1], 100)\n",
        "        plt.plot(np.full(100, x), z, color='black', linewidth=3)\n",
        "      # plt.xlim((0.13, 0.62))\n",
        "      plt.gca().set_aspect('equal', adjustable='box')\n",
        "      plt.gcf().set_size_inches(15, 15)\n",
        "      plt.gcf().set_dpi(200)\n",
        "      # plt.gca().axis('off')\n",
        "      # plt.gca().get_xaxis().set_visible(False)\n",
        "      # plt.gca().get_yaxis().set_visible(False)\n",
        "      # \n",
        "\n",
        "  def plot_max_stress(self):\n",
        "    c = chord(0)\n",
        "    x = np.linspace(0, 1, 100)\n",
        "    panels = [self.panels['front_spar'], self.panels['rear_spar']]\n",
        "    if not self.single_cell:\n",
        "      panels.append(self.panels['middle_spar'])\n",
        "    z_max = max([panel.p2[1] for panel in panels])\n",
        "    z_min = min([panel.p1[1] for panel in panels])\n",
        "    stress_lower = self.sigma(y, z_min)\n",
        "    stress_upper = self.sigma(y, z_max)\n",
        "    plt.plot(y, stress_lower, label='$\\sigma$ lower panel')\n",
        "    plt.plot(y, stress_upper, label='$\\sigma$ upper panel')\n",
        "    plt.legend()"
      ],
      "outputs": [],
      "execution_count": null,
      "metadata": {
        "jupyter": {
          "source_hidden": false,
          "outputs_hidden": false
        },
        "nteract": {
          "transient": {
            "deleting": false
          }
        }
      }
    },
    {
      "cell_type": "code",
      "source": [
        "V = V_distribution(-CL_crit, q_crit)\n",
        "M = M_distribution(V)"
      ],
      "outputs": [],
      "execution_count": null,
      "metadata": {
        "jupyter": {
          "source_hidden": false,
          "outputs_hidden": false
        },
        "nteract": {
          "transient": {
            "deleting": false
          }
        }
      }
    },
    {
      "cell_type": "markdown",
      "source": [
        "DISPLACEMENT"
      ],
      "metadata": {
        "nteract": {
          "transient": {
            "deleting": false
          }
        }
      }
    },
    {
      "cell_type": "code",
      "source": [
        "@interp_on_domain(y)\n",
        "def d2zdx2(y, wingbox: WingBox):\n",
        "    \"\"\"calculate second derivative of the displacement\"\"\"\n",
        "    return -(M(y)/E/wingbox.I_xx(y))\n",
        "\n",
        "\n",
        "@interp_on_domain(y)\n",
        "def dzdx(y, wingbox: WingBox):\n",
        "    \"\"\"calculate first derivative through integration\"\"\"\n",
        "    quad_vec = np.vectorize(quad)\n",
        "    return quad_vec(d2zdx2, 0, y, args=(wingbox))[0]\n",
        "    \n",
        "\n",
        "def z(y, wingbox: WingBox):\n",
        "    \"\"\"calculate displacement through integration\"\"\"\n",
        "    quad_vec = np.vectorize(quad)\n",
        "    return quad_vec(dzdx, 0, y, args=(wingbox))[0]\n",
        "\n",
        "zperc = lambda y: z(y, wingbox_iteration_1) / b2 * 50"
      ],
      "outputs": [],
      "execution_count": null,
      "metadata": {
        "jupyter": {
          "source_hidden": false,
          "outputs_hidden": false
        },
        "nteract": {
          "transient": {
            "deleting": false
          }
        }
      }
    },
    {
      "cell_type": "markdown",
      "source": [
        "ROTATION"
      ],
      "metadata": {
        "nteract": {
          "transient": {
            "deleting": false
          }
        }
      }
    },
    {
      "cell_type": "code",
      "source": [
        "@interp_on_domain(y)\n",
        "def dthetadx(y, wingbox: WingBox):\n",
        "    \"\"\"calculate first derivative of the rotation\"\"\"\n",
        "    T = T_distribution(CL_crit, q_crit, wingbox)\n",
        "    return T(y)/wingbox.J(y)/G\n",
        "\n",
        "def theta(y, wingbox: WingBox):\n",
        "    \"\"\"calculate rotation through integration\"\"\"\n",
        "    y_range = np.linspace(0, b2, 800)\n",
        "    func = interp1d(y_range, dthetadx(y, wingbox), kind='cubic', fill_value='extrapolate')\n",
        "    return [quad(func, 0, i)[0] * 180 / np.pi for i in y]\n",
        "    "
      ],
      "outputs": [],
      "execution_count": null,
      "metadata": {
        "jupyter": {
          "source_hidden": false,
          "outputs_hidden": false
        },
        "nteract": {
          "transient": {
            "deleting": false
          }
        }
      }
    },
    {
      "cell_type": "code",
      "source": [
        "t_5 = t(5, 5)\n",
        "t_3 = t(3, 3)\n",
        "t_2 = t(2, 2)\n",
        "t_1 = t(1, 1)\n",
        "stringer_u1 = Stringer(50, 0.2, 1)\n",
        "stringer_u1 = Stringer(50, 0.3, 1)\n",
        "stringer_u2 = Stringer(50, 0.35, 1)\n",
        "stringer_u3 = Stringer(50, 0.4, 1)\n",
        "stringer_l1 = Stringer(50, 0.5, 1)\n",
        "stringers = [stringer_u1, stringer_u2, stringer_u3, stringer_l1]\n",
        "\n",
        "wingbox_iteration_1_stringer = WingBox(0.2, t_5, 0.6, t_5, t_5, t_5, stringers=stringers, ribs=[0, 1, 2, 3, b2])\n",
        "\n",
        "wingbox_iteration_1 = WingBox(0.2, t(25, 3), 0.6, t(25, 3), t(25, 3), t(25, 3), ribs=[0, 1, 2, 3, 4, 5, 6, 7, b2])\n",
        "wingbox_iteration_2 = WingBox(0.2, t(2,1), 0.6, t(2,1), t(3,1), t(3,1))"
      ],
      "outputs": [],
      "execution_count": null,
      "metadata": {
        "jupyter": {
          "source_hidden": false,
          "outputs_hidden": false
        },
        "nteract": {
          "transient": {
            "deleting": false
          }
        }
      }
    },
    {
      "cell_type": "code",
      "source": [
        "wingbox_iteration_4 = WingBox(0.15, t(3,2), 0.6, t(3,2), t(6,1), t(6,1), stringers=stringers, middle_spar_x=0.37, middle_spar_t=t(3,2), ribs=[0, 1, b2])\n"
      ],
      "outputs": [],
      "execution_count": null,
      "metadata": {
        "jupyter": {
          "source_hidden": false,
          "outputs_hidden": false
        },
        "nteract": {
          "transient": {
            "deleting": false
          }
        }
      }
    },
    {
      "cell_type": "code",
      "source": [
        "wingbox_iteration_4.plot()"
      ],
      "outputs": [],
      "execution_count": null,
      "metadata": {
        "jupyter": {
          "source_hidden": false,
          "outputs_hidden": false
        },
        "nteract": {
          "transient": {
            "deleting": false
          }
        }
      }
    },
    {
      "cell_type": "code",
      "source": [
        "wingbox_iteration_4.check_skin_buckling()"
      ],
      "outputs": [],
      "execution_count": null,
      "metadata": {
        "jupyter": {
          "source_hidden": false,
          "outputs_hidden": false
        },
        "nteract": {
          "transient": {
            "deleting": false
          }
        }
      }
    },
    {
      "cell_type": "code",
      "source": [
        "wingbox_iteration_4.plot_max_stress()"
      ],
      "outputs": [],
      "execution_count": null,
      "metadata": {
        "jupyter": {
          "source_hidden": false,
          "outputs_hidden": false
        },
        "nteract": {
          "transient": {
            "deleting": false
          }
        }
      }
    },
    {
      "cell_type": "code",
      "source": [
        "print(f'{29e6/np.sqrt(2.5e-3 * np.pi):.3}')"
      ],
      "outputs": [],
      "execution_count": null,
      "metadata": {
        "jupyter": {
          "source_hidden": false,
          "outputs_hidden": false
        },
        "nteract": {
          "transient": {
            "deleting": false
          }
        }
      }
    }
  ],
  "metadata": {
    "kernelspec": {
      "argv": [
        "python",
        "-m",
        "ipykernel_launcher",
        "-f",
        "{connection_file}"
      ],
      "display_name": "Python 3 (ipykernel)",
      "language": "python",
      "metadata": {
        "debugger": true
      },
      "name": "python3"
    }
  },
  "nbformat": 4,
  "nbformat_minor": 0
}